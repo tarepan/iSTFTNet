{
  "cells": [
    {
      "attachments": {},
      "cell_type": "markdown",
      "metadata": {
        "id": "4oWm0zXecPh6"
      },
      "source": [
        "# istftnet\n",
        "[![Package badge]][github]\n",
        "[![Open In Colab]][notebook]\n",
        "\n",
        "Author: [tarepan]\n",
        "\n",
        "[github]:https://github.com/tarepan/iSTFTNet\n",
        "[notebook]:https://colab.research.google.com/github/tarepan/iSTFTNet/blob/main/istftnet.ipynb\n",
        "[tarepan]:https://github.com/tarepan\n",
        "[Package badge]:https://img.shields.io/badge/GitHub-istftnet-9cf.svg\n",
        "[Open In Colab]:https://colab.research.google.com/assets/colab-badge.svg"
      ]
    },
    {
      "attachments": {},
      "cell_type": "markdown",
      "metadata": {
        "id": "QFQivUIyZyYi"
      },
      "source": [
        "## Colab Check\n",
        "Check environments."
      ]
    },
    {
      "cell_type": "code",
      "execution_count": null,
      "metadata": {
        "id": "4cwyMoXOZ7e1"
      },
      "outputs": [],
      "source": [
        "!cat /proc/uptime | awk '{print $1 /60 /60 /24 \"days (\" $1 \"sec)\"}' # Google Colaboratory runnning time\n",
        "!head -n 1 /proc/driver/nvidia/gpus/**/information                  # GPU type\n",
        "!/usr/local/cuda/bin/nvcc --version | sed '4!d'                     # CUDA version\n",
        "!python --version                                                   # Python version\n",
        "!pip show torch | sed '2!d'                                         # PyTorch version"
      ]
    },
    {
      "attachments": {},
      "cell_type": "markdown",
      "metadata": {
        "id": "K125Ein7VCwM"
      },
      "source": [
        "## Setup"
      ]
    },
    {
      "attachments": {},
      "cell_type": "markdown",
      "metadata": {
        "id": "LJCLLQ_8cPiM"
      },
      "source": [
        "Install the package from `tarepan/iSTFTNet` public repository"
      ]
    },
    {
      "cell_type": "code",
      "execution_count": null,
      "metadata": {
        "id": "wZ9fU-17Sdxb"
      },
      "outputs": [],
      "source": [
        "# GoogleDrive\n",
        "from google.colab import drive\n",
        "drive.mount('/content/gdrive')\n",
        "\n",
        "# Dedicated dependencies install\n",
        "# !pip install \"torch==2.0.1\" \"torchaudio==2.0.2\" -q\n",
        "!pip install \"lightning==2.0.3\" git+https://github.com/tarepan/lightlightning.git -q\n",
        "\n",
        "# repository install\n",
        "!pip uninstall istftnet -y -q\n",
        "!pip install git+https://github.com/tarepan/iSTFTNet -q"
      ]
    },
    {
      "attachments": {},
      "cell_type": "markdown",
      "metadata": {
        "id": "ptA8A-dhEgqZ"
      },
      "source": [
        "## Training"
      ]
    },
    {
      "cell_type": "code",
      "execution_count": null,
      "metadata": {
        "id": "FKIasW5cTqhl"
      },
      "outputs": [],
      "source": [
        "# Launch TensorBoard\n",
        "%load_ext tensorboard\n",
        "%tensorboard --logdir /content/gdrive/MyDrive/ML_results/istftnet\n",
        "\n",
        "# Train\n",
        "!python -m istftnet.main_train \\\n",
        "    train.ckpt_log.dir_root=/content/gdrive/MyDrive/ML_results/istftnet \\\n",
        "    train.ckpt_log.name_exp=2022 \\\n",
        "    train.ckpt_log.name_version=version_1 \\\n",
        "    data.adress_data_root=/content/gdrive/MyDrive/ML_data \\\n",
        "    # train.model.net.child.dim_o=10 \\\n"
      ]
    },
    {
      "attachments": {},
      "cell_type": "markdown",
      "metadata": {},
      "source": [
        "## Inference"
      ]
    },
    {
      "attachments": {},
      "cell_type": "markdown",
      "metadata": {},
      "source": [
        "### From CLI"
      ]
    },
    {
      "cell_type": "code",
      "execution_count": null,
      "metadata": {},
      "outputs": [],
      "source": [
        "!python -m istftnet.main_inference \\\n",
        "    --model-ckpt-path=\"/content/gdrive/MyDrive/ML_results/istftnet/test2/default/version_0/checkpoints/last.ckpt\" \\\n",
        "    --i-path=\"./test.wav\" \\\n",
        "    --o-path=\"./o.wav\" \\\n",
        "    # --device=\"cpu\" --device=\"cuda:0\" \\"
      ]
    },
    {
      "attachments": {},
      "cell_type": "markdown",
      "metadata": {},
      "source": [
        "### From Python"
      ]
    },
    {
      "cell_type": "code",
      "execution_count": null,
      "metadata": {},
      "outputs": [],
      "source": [
        "import torch\n",
        "\n",
        "from istftnet.model import Model\n",
        "\n",
        "\n",
        "# Configs\n",
        "model_ckpt_path = \"<ckpt.pt>\"\n",
        "device = \"cuda:0\" # \"cpu\"\n",
        "\n",
        "# Setup\n",
        "model: Model = Model.load_from_checkpoint(checkpoint_path=model_ckpt_path).to(torch.device(device)) # type: ignore ; because of PyTorch Lightning\n",
        "model.eval()\n",
        "\n",
        "# Inference\n",
        "with torch.inference_mode():\n",
        "    # Raw data\n",
        "    ####################################\n",
        "    ## From sample\n",
        "    raw = model.sample()\n",
        "    ####################################\n",
        "    ## From your file\n",
        "    # from pathlib import Path\n",
        "    # i_path = Path(f\"<your_data>.xxx\")\n",
        "    # raw = model.load(i_path)\n",
        "    ####################################\n",
        "    ## From your upstream data\n",
        "    # raw = <your_raw_data>\n",
        "    ####################################\n",
        "\n",
        "    batch = model.preprocess(raw, device)\n",
        "    o_pred = model.predict_step(batch, batch_idx=0)\n",
        "\n",
        "    # Tensor[Batch=1, ...] => Tensor[...] => NDArray[...]\n",
        "    o_wave = o_pred[0].to('cpu').numpy()\n",
        "\n",
        "# Output\n",
        "print(o_wave)\n",
        "##################################################\n",
        "# Audio\n",
        "##############################################\n",
        "## To File\n",
        "# import soundfile as sf\n",
        "# sf.write(...)\n",
        "##############################################\n",
        "## To Notebook\n",
        "# from IPython.display import Audio, display\n",
        "# display(Audio(o_wave, rate=o_sr))\n",
        "##############################################\n",
        "##################################################\n"
      ]
    },
    {
      "cell_type": "code",
      "execution_count": null,
      "metadata": {
        "id": "0O2DDaFlcPiX"
      },
      "outputs": [],
      "source": [
        "# # Usage stat\n",
        "# ## GPU\n",
        "# !nvidia-smi -l 3\n",
        "# ## CPU\n",
        "# !vmstat 5\n",
        "# !top"
      ]
    }
  ],
  "metadata": {
    "accelerator": "GPU",
    "colab": {
      "collapsed_sections": [],
      "name": "pack_name.ipynb",
      "private_outputs": true,
      "provenance": []
    },
    "kernelspec": {
      "display_name": "Python 3.7.13 64-bit",
      "language": "python",
      "name": "python3"
    },
    "language_info": {
      "name": "python",
      "version": "3.8.13"
    },
    "vscode": {
      "interpreter": {
        "hash": "949777d72b0d2535278d3dc13498b2535136f6dfe0678499012e853ee9abcab1"
      }
    }
  },
  "nbformat": 4,
  "nbformat_minor": 0
}
